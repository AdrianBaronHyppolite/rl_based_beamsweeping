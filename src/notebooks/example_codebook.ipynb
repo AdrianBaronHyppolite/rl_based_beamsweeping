{
 "cells": [
  {
   "cell_type": "code",
   "execution_count": 3,
   "metadata": {},
   "outputs": [
    {
     "ename": "ModuleNotFoundError",
     "evalue": "No module named 'toolbox'",
     "output_type": "error",
     "traceback": [
      "\u001b[0;31m---------------------------------------------------------------------------\u001b[0m",
      "\u001b[0;31mModuleNotFoundError\u001b[0m                       Traceback (most recent call last)",
      "Cell \u001b[0;32mIn [3], line 1\u001b[0m\n\u001b[0;32m----> 1\u001b[0m \u001b[39mfrom\u001b[39;00m \u001b[39mtoolbox\u001b[39;00m \u001b[39mimport\u001b[39;00m dB2lin, dBm2watts\n\u001b[1;32m      2\u001b[0m \u001b[39mimport\u001b[39;00m \u001b[39mnumpy\u001b[39;00m \u001b[39mas\u001b[39;00m \u001b[39mnp\u001b[39;00m\n\u001b[1;32m      3\u001b[0m \u001b[39mfrom\u001b[39;00m \u001b[39mantenna\u001b[39;00m \u001b[39mimport\u001b[39;00m AntennaArray\n",
      "\u001b[0;31mModuleNotFoundError\u001b[0m: No module named 'toolbox'"
     ]
    }
   ],
   "source": [
    "from toolbox import dB2lin, dBm2watts\n",
    "import numpy as np\n",
    "from antenna import AntennaArray\n",
    "import seaborn as sns \n",
    "import matplotlib.pyplot as plt"
   ]
  },
  {
   "cell_type": "markdown",
   "metadata": {},
   "source": [
    "### Antenna model."
   ]
  },
  {
   "cell_type": "markdown",
   "metadata": {},
   "source": [
    "#### Antenna steering without the codebook."
   ]
  },
  {
   "cell_type": "code",
   "execution_count": 2,
   "metadata": {},
   "outputs": [
    {
     "ename": "NameError",
     "evalue": "name 'dBm2watts' is not defined",
     "output_type": "error",
     "traceback": [
      "\u001b[0;31m---------------------------------------------------------------------------\u001b[0m",
      "\u001b[0;31mNameError\u001b[0m                                 Traceback (most recent call last)",
      "Cell \u001b[0;32mIn [2], line 2\u001b[0m\n\u001b[1;32m      1\u001b[0m \u001b[39m# Network parameters.\u001b[39;00m\n\u001b[0;32m----> 2\u001b[0m ptx \u001b[39m=\u001b[39m dBm2watts(\u001b[39m25\u001b[39m) \u001b[39m# Transmit power.\u001b[39;00m\n\u001b[1;32m      3\u001b[0m element_gain_dBi \u001b[39m=\u001b[39m \u001b[39m1\u001b[39m \u001b[39m# Antenna element gain.\u001b[39;00m\n\u001b[1;32m      4\u001b[0m fc \u001b[39m=\u001b[39m \u001b[39m30e9\u001b[39m \u001b[39m# Carrier frequency in Hz.\u001b[39;00m\n",
      "\u001b[0;31mNameError\u001b[0m: name 'dBm2watts' is not defined"
     ]
    }
   ],
   "source": [
    "# Network parameters.\n",
    "ptx = dBm2watts(25) # Transmit power.\n",
    "element_gain_dBi = 1 # Antenna element gain.\n",
    "fc = 30e9 # Carrier frequency in Hz.\n",
    "wavelen = 3e8/fc # Wave length.\n",
    "nx, ny, nz = 1, 8, 1 # Distribution of antenna elements. \n",
    "dx = dy = dz = wavelen * 0.5 # Distance between antenna elements.\n",
    "antenna = AntennaArray(wavelen, nx, ny, nz, dx, dy, dz)\n",
    "\n",
    "gain = []\n",
    "phis = np.linspace(-np.pi/2, np.pi/2, 200) # Horizontal angles.\n",
    "for phi in phis:\n",
    "    element_gain = 10*np.power(10, element_gain_dBi/10) # dBi -> linear.\n",
    "    m = int(nx*ny*nz) # Number of antenna elements.\n",
    "    p = np.sqrt(ptx/m) * np.ones((m, 1)) * element_gain # Power spread over antenna elements.\n",
    "    w = antenna.calc_array_factor( # Radiation pattern.\n",
    "            theta=np.pi/2, phi=phi\n",
    "        ).reshape(m, 1)\n",
    "    w = np.multiply(w, p)\n",
    "    g = np.power(np.linalg.norm(np.sum(w)), 2) # Gain.\n",
    "    gain.append(10*np.log10(g))\n",
    "\n",
    "_ = plt.figure()\n",
    "ax = sns.lineplot(x=phis, y=gain)\n",
    "_ = plt.ylabel(\"Power (dBm)\")\n",
    "_ = plt.ylim([-70, 60])\n",
    "_ = plt.xlabel(\"Horizontal angle (radian)\")\n",
    "_ = plt.show()\n",
    "_ = plt.figure()\n",
    "_ = plt.polar(phis, gain)\n",
    "_ = plt.show()"
   ]
  },
  {
   "cell_type": "markdown",
   "metadata": {},
   "source": [
    "#### Antenna steering using the codebook."
   ]
  },
  {
   "cell_type": "code",
   "execution_count": 3,
   "metadata": {},
   "outputs": [
    {
     "data": {
      "image/png": "[encoded data removed]",
      "text/plain": [
       "<Figure size 432x288 with 1 Axes>"
      ]
     },
     "metadata": {
      "needs_background": "light"
     },
     "output_type": "display_data"
    }
   ],
   "source": [
    "from antenna import AntennaArray\n",
    "\n",
    "# Network parameters.\n",
    "ptx = dBm2watts(25) # Transmit power.\n",
    "element_gain_dBi = 1 # Antenna element gain.\n",
    "fc = 30e9 # Carrier frequency in Hz.\n",
    "wavelen = 3e8/fc # Wave length.\n",
    "nx, ny, nz = 1, 8, 1 # Distribution of antenna elements. \n",
    "dx = dy = dz = wavelen * 0.5 # Distance between antenna elements.\n",
    "nhbeams = 200 # Number of horizontal beams.\n",
    "nvbeams = 1 # Number of vertical beams.\n",
    "hangmin, hangmax = -90, 90 # Horizontal angles.\n",
    "vangmin, vangmax = 0, 0 # Vertical angles.\n",
    "antenna = AntennaArray(\n",
    "    wavelen, nx, ny, nz, dx, dy, dz, hbeams=nhbeams, vbeams=nvbeams,\n",
    "    hangmin=hangmin, hangmax=hangmax, vangmin=vangmin, vangmax=vangmax)\n",
    "\n",
    "gain = []\n",
    "phis = []\n",
    "for codebook_id in antenna.codebook_ids:\n",
    "    element_gain = 10*np.power(10, element_gain_dBi/10) # dBi -> linear.\n",
    "    m = int(nx*ny*nz) # Number of antenna elements.\n",
    "    p = np.sqrt(ptx/m) * np.ones((m, 1)) * element_gain # Power spread over antenna elements.\n",
    "    w, steering_angle = antenna.steering_vec(codebook_id)\n",
    "    w = w.reshape(m, 1)\n",
    "    w = np.multiply(w, p)\n",
    "    g = np.power(np.linalg.norm(np.sum(w)), 2) # Gain.\n",
    "    gain.append(10*np.log10(g))\n",
    "    phis.append(steering_angle[1])\n",
    "\n",
    "ax = sns.lineplot(x=phis, y=gain)\n",
    "_ = plt.ylabel(\"Power (dBm)\")\n",
    "_ = plt.xlabel(\"\")\n",
    "_ = plt.ylim([-70, 20])"
   ]
  },
  {
   "cell_type": "code",
   "execution_count": null,
   "metadata": {},
   "outputs": [],
   "source": []
  }
 ],
 "metadata": {
  "kernelspec": {
   "display_name": "Python 3",
   "language": "python",
   "name": "python3"
  },
  "language_info": {
   "codemirror_mode": {
    "name": "ipython",
    "version": 3
   },
   "file_extension": ".py",
   "mimetype": "text/x-python",
   "name": "python",
   "nbconvert_exporter": "python",
   "pygments_lexer": "ipython3",
   "version": "3.8.10 (default, Nov 14 2022, 12:59:47) \n[GCC 9.4.0]"
  },
  "orig_nbformat": 4,
  "vscode": {
   "interpreter": {
    "hash": "e7370f93d1d0cde622a1f8e1c04877d8463912d04d973331ad4851f04de6915a"
   }
  }
 },
 "nbformat": 4,
 "nbformat_minor": 2
}
