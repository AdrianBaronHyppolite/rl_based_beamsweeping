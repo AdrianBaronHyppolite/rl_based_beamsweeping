{
 "cells": [
  {
   "cell_type": "code",
   "execution_count": 2,
   "metadata": {},
   "outputs": [],
   "source": [
    "import numpy as np\n",
    "import pandas as pd\n",
    "from toolbox import watts2dBm, dBm2watts, dB2lin, lin2dB, pathloss, pack2dict\n",
    "from antenna import AntennaArray, Omnidirectional\n",
    "from simulation import simulate\n",
    "import time \n",
    "import os \n",
    "from multiprocessing import Process\n",
    "import logging\n",
    "import argparse\n",
    "#\n",
    "logging.basicConfig(filename=\"../logs/ris_size.log\", encoding=\"utf-8\", level=logging.INFO)"
   ]
  },
  {
   "cell_type": "markdown",
   "metadata": {},
   "source": [
    "#### Hyperparameters of the simulation."
   ]
  },
  {
   "cell_type": "code",
   "execution_count": 3,
   "metadata": {},
   "outputs": [],
   "source": [
    "'''\n",
    "Network topology (coordinates <x, y, z>).\n",
    "'''\n",
    "bs_loc  = np.array([0, 0, 0]) # Base station.\n",
    "ris_loc = np.array([5, 5, 0]) # RIS.\n",
    "ue_loc  = np.array([50, 0, 0]) # User equipment.\n",
    "'''\n",
    "Channel parameters.\n",
    "'''\n",
    "Ptx_dBm = 25\n",
    "A_dB = -30 # 30 dB path loss attenuation.\n",
    "# BS -> RIS -> UE is LOS; BS -> UE is NLOS.\n",
    "alpha_bs2ris = 2.8 # Attenuation coefficient between base station and RIS.\n",
    "alpha_ris2ue = 2.8 # ... between RIS and user equipment.\n",
    "# alpha_bs2ue  = 3.5 # ... between BS and user equipment.\n",
    "'''\n",
    "Tx antenna, i.e., base station, considering the downlink communication.\n",
    "'''\n",
    "M = 8 # Number of antenna elements.\n",
    "fc = 30e9 # Carrier frequency.\n",
    "wavelen = 3e8/fc # Wavelength of the 30 GHz carrier frequency.\n",
    "nx, ny, nz = 1, M, 1 # Antenna array (3D?).\n",
    "dx = dy = dz = wavelen * 0.5\n",
    "bs_antenna = AntennaArray(wavelen, nx, ny, nz, dx, dy, dz)\n",
    "'''\n",
    "Quantization.\n",
    "'''\n",
    "nbits = 8"
   ]
  },
  {
   "cell_type": "markdown",
   "metadata": {},
   "source": [
    "### Simulation."
   ]
  },
  {
   "cell_type": "code",
   "execution_count": 7,
   "metadata": {},
   "outputs": [],
   "source": [
    "def run_sim(niter, nris, alpha_bs2ue, savefile=None):\n",
    "    '''\n",
    "    This function performs the RIS-aided attack ``niter'' times with a RIS of \n",
    "    size ``nris'' elements and direct link (BS -> UE) path loss exponent \n",
    "    ``alpha_bs2ue''.\n",
    "\n",
    "    It either returns or saves (to ``savefile'' file) a data frame.\n",
    "    '''\n",
    "    seed = int.from_bytes(os.urandom(4), byteorder=\"little\")\n",
    "    np.random.seed(seed)\n",
    "\n",
    "    results = {\"opt\": [], \"nris\": [], \"alpha_bs2ue\": [], \"prx_dBm\": []}\n",
    "    for iter in range(niter):\n",
    "        for opt in [\"sota python\", \"random\", \"none\"]:\n",
    "            # np.random.seed(seed+iter)\n",
    "            np.random.seed(iter)\n",
    "            prx_dBm = simulate(\n",
    "                Ptx_dBm=Ptx_dBm, \n",
    "                bs_loc=bs_loc, \n",
    "                ue_loc=ue_loc, \n",
    "                ris_loc=ris_loc, \n",
    "                bs_antenna=AntennaArray(wavelen, nx, ny, nz, dx, dy, dz), \n",
    "                # bs_antenna=Omnidirectional(wavelen, nx, ny, nz, dx, dy, dz),\n",
    "                M=M, \n",
    "                N=nris, \n",
    "                alpha_bs2ue=alpha_bs2ue, \n",
    "                alpha_bs2ris=alpha_bs2ris, \n",
    "                alpha_ris2ue=alpha_ris2ue, \n",
    "                ris_optimizer=opt, \n",
    "                estimation_err_dB=-np.inf, \n",
    "                nbits=nbits,\n",
    "                A_dB=A_dB,\n",
    "            ) \n",
    "            logging.info(f\"{opt}, n = {nris}, a = {alpha_bs2ue}, prx = {prx_dBm}.\")\n",
    "            _ = pack2dict(results, [opt, nris, alpha_bs2ue, prx_dBm])\n",
    "\n",
    "    df = pd.DataFrame(results)\n",
    "\n",
    "    if savefile is not None:    \n",
    "        df.to_csv(savefile, index=False)\n",
    "        return\n",
    "    else:\n",
    "        return df "
   ]
  },
  {
   "cell_type": "code",
   "execution_count": 8,
   "metadata": {},
   "outputs": [
    {
     "data": {
      "text/html": [
       "<div>\n",
       "<style scoped>\n",
       "    .dataframe tbody tr th:only-of-type {\n",
       "        vertical-align: middle;\n",
       "    }\n",
       "\n",
       "    .dataframe tbody tr th {\n",
       "        vertical-align: top;\n",
       "    }\n",
       "\n",
       "    .dataframe thead th {\n",
       "        text-align: right;\n",
       "    }\n",
       "</style>\n",
       "<table border=\"1\" class=\"dataframe\">\n",
       "  <thead>\n",
       "    <tr style=\"text-align: right;\">\n",
       "      <th></th>\n",
       "      <th>opt</th>\n",
       "      <th>nris</th>\n",
       "      <th>alpha_bs2ue</th>\n",
       "      <th>prx_dBm</th>\n",
       "    </tr>\n",
       "  </thead>\n",
       "  <tbody>\n",
       "    <tr>\n",
       "      <th>0</th>\n",
       "      <td>sota python</td>\n",
       "      <td>200</td>\n",
       "      <td>3.5</td>\n",
       "      <td>-70.636766</td>\n",
       "    </tr>\n",
       "    <tr>\n",
       "      <th>1</th>\n",
       "      <td>random</td>\n",
       "      <td>200</td>\n",
       "      <td>3.5</td>\n",
       "      <td>-67.106558</td>\n",
       "    </tr>\n",
       "    <tr>\n",
       "      <th>2</th>\n",
       "      <td>none</td>\n",
       "      <td>200</td>\n",
       "      <td>3.5</td>\n",
       "      <td>-67.560521</td>\n",
       "    </tr>\n",
       "    <tr>\n",
       "      <th>3</th>\n",
       "      <td>sota python</td>\n",
       "      <td>200</td>\n",
       "      <td>3.5</td>\n",
       "      <td>-145.731332</td>\n",
       "    </tr>\n",
       "    <tr>\n",
       "      <th>4</th>\n",
       "      <td>random</td>\n",
       "      <td>200</td>\n",
       "      <td>3.5</td>\n",
       "      <td>-79.580823</td>\n",
       "    </tr>\n",
       "  </tbody>\n",
       "</table>\n",
       "</div>"
      ],
      "text/plain": [
       "           opt  nris  alpha_bs2ue     prx_dBm\n",
       "0  sota python   200          3.5  -70.636766\n",
       "1       random   200          3.5  -67.106558\n",
       "2         none   200          3.5  -67.560521\n",
       "3  sota python   200          3.5 -145.731332\n",
       "4       random   200          3.5  -79.580823"
      ]
     },
     "execution_count": 8,
     "metadata": {},
     "output_type": "execute_result"
    }
   ],
   "source": [
    "df = run_sim(niter=10, nris=200, alpha_bs2ue=3.5)\n",
    "df.head()"
   ]
  },
  {
   "cell_type": "markdown",
   "metadata": {},
   "source": [
    "### Data analysis."
   ]
  },
  {
   "cell_type": "code",
   "execution_count": 9,
   "metadata": {},
   "outputs": [
    {
     "data": {
      "text/html": [
       "<div>\n",
       "<style scoped>\n",
       "    .dataframe tbody tr th:only-of-type {\n",
       "        vertical-align: middle;\n",
       "    }\n",
       "\n",
       "    .dataframe tbody tr th {\n",
       "        vertical-align: top;\n",
       "    }\n",
       "\n",
       "    .dataframe thead th {\n",
       "        text-align: right;\n",
       "    }\n",
       "</style>\n",
       "<table border=\"1\" class=\"dataframe\">\n",
       "  <thead>\n",
       "    <tr style=\"text-align: right;\">\n",
       "      <th></th>\n",
       "      <th></th>\n",
       "      <th></th>\n",
       "      <th>prx_dBm</th>\n",
       "    </tr>\n",
       "    <tr>\n",
       "      <th>opt</th>\n",
       "      <th>nris</th>\n",
       "      <th>alpha_bs2ue</th>\n",
       "      <th></th>\n",
       "    </tr>\n",
       "  </thead>\n",
       "  <tbody>\n",
       "    <tr>\n",
       "      <th>none</th>\n",
       "      <th>200</th>\n",
       "      <th>3.5</th>\n",
       "      <td>-76.037480</td>\n",
       "    </tr>\n",
       "    <tr>\n",
       "      <th>random</th>\n",
       "      <th>200</th>\n",
       "      <th>3.5</th>\n",
       "      <td>-76.353167</td>\n",
       "    </tr>\n",
       "    <tr>\n",
       "      <th>sota python</th>\n",
       "      <th>200</th>\n",
       "      <th>3.5</th>\n",
       "      <td>-111.533380</td>\n",
       "    </tr>\n",
       "  </tbody>\n",
       "</table>\n",
       "</div>"
      ],
      "text/plain": [
       "                                 prx_dBm\n",
       "opt         nris alpha_bs2ue            \n",
       "none        200  3.5          -76.037480\n",
       "random      200  3.5          -76.353167\n",
       "sota python 200  3.5         -111.533380"
      ]
     },
     "execution_count": 9,
     "metadata": {},
     "output_type": "execute_result"
    }
   ],
   "source": [
    "df.groupby([\"opt\", \"nris\", \"alpha_bs2ue\"]).mean()"
   ]
  }
 ],
 "metadata": {
  "kernelspec": {
   "display_name": "Python 3",
   "language": "python",
   "name": "python3"
  },
  "language_info": {
   "codemirror_mode": {
    "name": "ipython",
    "version": 3
   },
   "file_extension": ".py",
   "mimetype": "text/x-python",
   "name": "python",
   "nbconvert_exporter": "python",
   "pygments_lexer": "ipython3",
   "version": "3.8.10 (default, Nov 14 2022, 12:59:47) \n[GCC 9.4.0]"
  },
  "orig_nbformat": 4,
  "vscode": {
   "interpreter": {
    "hash": "e7370f93d1d0cde622a1f8e1c04877d8463912d04d973331ad4851f04de6915a"
   }
  }
 },
 "nbformat": 4,
 "nbformat_minor": 2
}
