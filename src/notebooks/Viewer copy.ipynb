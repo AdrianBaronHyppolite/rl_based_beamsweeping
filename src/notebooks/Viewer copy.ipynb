{
 "cells": [
  {
   "cell_type": "code",
   "execution_count": 7,
   "metadata": {},
   "outputs": [],
   "source": [
    "from toolbox import dB2lin, dBm2watts, get_angle, watts2dBm, pack2dict\n",
    "from mlxtend.plotting import heatmap\n",
    "from collections import Counter\n",
    "import numpy as np\n",
    "import pandas as pd\n",
    "from antenna import AntennaArray\n",
    "import seaborn as sns \n",
    "import matplotlib.pyplot as plt\n",
    "import optimizers\n",
    "import simulation\n",
    "import math"
   ]
  },
  {
   "cell_type": "code",
   "execution_count": 8,
   "metadata": {},
   "outputs": [
    {
     "name": "stdout",
     "output_type": "stream",
     "text": [
      "(55.0, -45.0) 0\n",
      "(55.0, -33.75) 1\n",
      "(55.0, -22.5) 2\n",
      "(55.0, -11.25) 3\n",
      "(55.0, 0.0) 4\n",
      "(55.0, 11.25) 5\n",
      "(55.0, 22.5) 6\n",
      "(55.0, 33.75) 7\n",
      "(55.0, 45.0) 8\n",
      "(66.66666666666666, -45.0) 9\n",
      "(66.66666666666666, -33.75) 10\n",
      "(66.66666666666666, -22.5) 11\n",
      "(66.66666666666666, -11.25) 12\n",
      "(66.66666666666666, 0.0) 13\n",
      "(66.66666666666666, 11.25) 14\n",
      "(66.66666666666666, 22.5) 15\n",
      "(66.66666666666666, 33.75) 16\n",
      "(66.66666666666666, 45.0) 17\n",
      "(78.33333333333333, -45.0) 18\n",
      "(78.33333333333333, -33.75) 19\n",
      "(78.33333333333333, -22.5) 20\n",
      "(78.33333333333333, -11.25) 21\n",
      "(78.33333333333333, 0.0) 22\n",
      "(78.33333333333333, 11.25) 23\n",
      "(78.33333333333333, 22.5) 24\n",
      "(78.33333333333333, 33.75) 25\n",
      "(78.33333333333333, 45.0) 26\n",
      "(90.0, -45.0) 27\n",
      "(90.0, -33.75) 28\n",
      "(90.0, -22.5) 29\n",
      "(90.0, -11.25) 30\n",
      "(90.0, 0.0) 31\n",
      "(90.0, 11.25) 32\n",
      "(90.0, 22.5) 33\n",
      "(90.0, 33.75) 34\n",
      "(90.0, 45.0) 35\n",
      "(101.66666666666666, -45.0) 36\n",
      "(101.66666666666666, -33.75) 37\n",
      "(101.66666666666666, -22.5) 38\n",
      "(101.66666666666666, -11.25) 39\n",
      "(101.66666666666666, 0.0) 40\n",
      "(101.66666666666666, 11.25) 41\n",
      "(101.66666666666666, 22.5) 42\n",
      "(101.66666666666666, 33.75) 43\n",
      "(101.66666666666666, 45.0) 44\n",
      "(113.33333333333333, -45.0) 45\n",
      "(113.33333333333333, -33.75) 46\n",
      "(113.33333333333333, -22.5) 47\n",
      "(113.33333333333333, -11.25) 48\n",
      "(113.33333333333333, 0.0) 49\n",
      "(113.33333333333333, 11.25) 50\n",
      "(113.33333333333333, 22.5) 51\n",
      "(113.33333333333333, 33.75) 52\n",
      "(113.33333333333333, 45.0) 53\n",
      "(125.0, -45.0) 54\n",
      "(125.0, -33.75) 55\n",
      "(125.0, -22.5) 56\n",
      "(125.0, -11.25) 57\n",
      "(125.0, 0.0) 58\n",
      "(125.0, 11.25) 59\n",
      "(125.0, 22.5) 60\n",
      "(125.0, 33.75) 61\n",
      "(125.0, 45.0) 62\n",
      "27.455618969209635\n",
      "[-43.41423803 -48.01000176 -37.26978841 -21.9982016   -8.35084704\n",
      " -21.9982016  -37.26978841 -48.01000176 -43.41423803 -34.06865298\n",
      " -66.1285882  -25.59019439 -18.14536951   0.09471433 -18.14536951\n",
      " -25.59019439 -66.1285882  -34.06865298 -39.56636995 -40.75162483\n",
      " -24.27414375 -20.15719042   1.62998954 -20.15719042 -24.27414375\n",
      " -40.75162483 -39.56636995 -18.34621014 -11.71195759   1.15163013\n",
      "   4.30382299  27.45561897   4.30382299   1.15163013 -11.71195759\n",
      " -18.34621014 -39.56636995 -40.75162483 -24.27414375 -20.15719042\n",
      "   1.62998954 -20.15719042 -24.27414375 -40.75162483 -39.56636995\n",
      " -34.06865298 -66.1285882  -25.59019439 -18.14536951   0.09471433\n",
      " -18.14536951 -25.59019439 -66.1285882  -34.06865298 -43.41423803\n",
      " -48.01000176 -37.26978841 -21.9982016   -8.35084704 -21.9982016\n",
      " -37.26978841 -48.01000176 -43.41423803]\n"
     ]
    }
   ],
   "source": [
    "\n",
    "from numpy import argmax, maximum, rad2deg\n",
    "\n",
    "def calc_prx(Cd, w_bs2ue):\n",
    "    '''\n",
    "    This returns the received power in watts.\n",
    "    '''\n",
    "    # Don't ask me why this is the conjugate. It just works as in the \n",
    "    #   reference MATLAB code.\n",
    "    psi = np.conj(np.matmul(Cd.T, w_bs2ue))\n",
    "    # Don't ask me why this is the conjugate. It just works as in the \n",
    "    #   reference MATLAB code.\n",
    "    D=0\n",
    "    prx = np.power(np.linalg.norm(D+psi), 2)\n",
    "    return prx\n",
    "\n",
    "#def simulationAdrian(Ptx_dBm, bs_loc, ue_loc, alpha_bs2ue,A_dB):\n",
    "A_dB = -30\n",
    "_bs_loc = np.array([0, 0, 0])  # Base station.\n",
    "_ue_loc = np.array([50, 0, 0])  # User equipment.\n",
    "_Ptx_dBm = 25\n",
    "\n",
    "_fc = 30e9  # Carrier frequency.\n",
    "element_gain_dbi = 1 #Antenna element gain\n",
    "_wavelen = 3e8/_fc  # Wavelength of the 30 GHz carrier frequency.\n",
    "_nx, _ny, _nz = 1, 8, 8\n",
    "_M = int(_nx*_ny*_nz)\n",
    "_dx = _dy = _dz =_wavelen * 0.5\n",
    "nhbeams = 9\n",
    "nvbeams = 7\n",
    "hangmin, hangmax = -45, 45 #vertical angles\n",
    "vangmin, vangmax = -35, 35 #vertical angles\n",
    "_bs_antenna = AntennaArray(\n",
    "        _wavelen, _nx, _ny, _nz, _dx, _dy, _dz, hbeams = nhbeams, vbeams = nvbeams, \n",
    "            hangmin = hangmin, hangmax = hangmax, vangmin = vangmin, vangmax = vangmax)\n",
    "nbits = 4\n",
    "    ###########################################################\n",
    "alpha_bs2ue  = 3.5 # ... between BS and user equipment.\n",
    "d_bs2ue  = np.linalg.norm(_bs_loc-_ue_loc)\n",
    "# Path loss coefficient.\n",
    "A = dB2lin(A_dB)\n",
    "# Transmit power.\n",
    "p = np.sqrt(dBm2watts(_Ptx_dBm)/_M) * np.ones((_M, 1)) # Transmit power per element.\n",
    "# Channels.\n",
    "# Direct channel, BS -> UE.\n",
    "\n",
    "\n",
    "cd = np.sqrt(A*np.power(d_bs2ue, -alpha_bs2ue)/2.)*simulation.gen_fading(_M,1)#np.ones((M, 1))#(np.random.randn(M, 1) + 1j*np.random.randn(M, 1))\n",
    "\n",
    "\n",
    "# Beam sweeping.\\\n",
    "logs = {\"prx_dBm\": [], \"phi\": [], \"steering_angle\": []}\n",
    "gain = []\n",
    "phis = np.linspace(-np.pi/2, np.pi/2, 200) # Horizontal angles.\n",
    "count = 0\n",
    "rsrp = []\n",
    "sigstrengthvalues = []\n",
    "for codebook_id in _bs_antenna.codebook_ids:\n",
    "    w_steer, steering_angle = _bs_antenna.steering_vec(codebook_id)\n",
    "    print(steering_angle, codebook_id)\n",
    "    w_steer = w_steer.conj()\n",
    "    \n",
    "    element_gain = 10*np.power(10, element_gain_dbi/10) # dBi -> linear.\n",
    "    m = int(_nx*_ny*_nz) # Number of antenna elements.\n",
    "    p = np.sqrt(dBm2watts(_Ptx_dBm)/m) * np.ones((m, 1)) * element_gain # Power spread over antenna elements.\n",
    "    w = _bs_antenna.calc_array_factor( # Radiation pattern.\n",
    "            theta=np.pi/2, phi=0\n",
    "        )\n",
    "    w = w @ w_steer\n",
    "    w = np.multiply(w, p)\n",
    "    g = np.power(np.linalg.norm(np.sum(w)), 2) # Gain.\n",
    "    gain = 10*np.log10(g)\n",
    "    w_bs2ue = np.multiply(p, g)\n",
    "        \n",
    "    prx = calc_prx(cd, w_bs2ue)\n",
    "    prx_dBm = watts2dBm(prx)\n",
    "    sigstrengthvalues = np.append(sigstrengthvalues, prx_dBm + 0.001)\n",
    "    rsrp = max(sigstrengthvalues)\n",
    "\n",
    "print(rsrp)\n",
    "print(sigstrengthvalues)\n",
    "\n",
    "    #return sigstrengthvalues, logs    "
   ]
  },
  {
   "cell_type": "code",
   "execution_count": 9,
   "metadata": {},
   "outputs": [
    {
     "name": "stdout",
     "output_type": "stream",
     "text": [
      "(array([0]),)\n"
     ]
    }
   ],
   "source": [
    "matrix2d = np.reshape(sigstrengthvalues, (7,9))\n",
    "rsrp = max(k for k,v in Counter(sigstrengthvalues).items() if v>1)\n",
    "print (np.where(rsrp))"
   ]
  },
  {
   "cell_type": "code",
   "execution_count": 10,
   "metadata": {},
   "outputs": [
    {
     "data": {
      "text/plain": [
       "(3, 4)"
      ]
     },
     "execution_count": 10,
     "metadata": {},
     "output_type": "execute_result"
    }
   ],
   "source": [
    "matrix2d = np.reshape(sigstrengthvalues, (7,9))\n",
    "nrow, ncol = matrix2d.shape\n",
    "i = np.argmax(matrix2d) \n",
    "rid = i//ncol \n",
    "cid = i%ncol\n",
    "(rid, cid)"
   ]
  },
  {
   "cell_type": "code",
   "execution_count": 11,
   "metadata": {},
   "outputs": [
    {
     "data": {
      "text/plain": [
       "<matplotlib.axes._subplots.AxesSubplot at 0x7f71083e23a0>"
      ]
     },
     "execution_count": 11,
     "metadata": {},
     "output_type": "execute_result"
    },
    {
     "data": {
      "image/png": "[encoded data removed]",
      "text/plain": [
       "<Figure size 640x480 with 2 Axes>"
      ]
     },
     "metadata": {},
     "output_type": "display_data"
    }
   ],
   "source": [
    "\n",
    "#print(matrix2d)\n",
    "sns.heatmap(matrix2d)"
   ]
  }
 ],
 "metadata": {
  "kernelspec": {
   "display_name": "Python 3.8.10 64-bit",
   "language": "python",
   "name": "python3"
  },
  "language_info": {
   "codemirror_mode": {
    "name": "ipython",
    "version": 3
   },
   "file_extension": ".py",
   "mimetype": "text/x-python",
   "name": "python",
   "nbconvert_exporter": "python",
   "pygments_lexer": "ipython3",
   "version": "3.8.10 (default, Nov 14 2022, 12:59:47) \n[GCC 9.4.0]"
  },
  "orig_nbformat": 4,
  "vscode": {
   "interpreter": {
    "hash": "e7370f93d1d0cde622a1f8e1c04877d8463912d04d973331ad4851f04de6915a"
   }
  }
 },
 "nbformat": 4,
 "nbformat_minor": 2
}
