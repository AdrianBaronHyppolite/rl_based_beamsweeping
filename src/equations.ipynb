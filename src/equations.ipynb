{
 "cells": [
  {
   "cell_type": "code",
   "execution_count": 51,
   "metadata": {},
   "outputs": [],
   "source": [
    "import numpy as np \n",
    "import math\n",
    "from scipy.integrate import dblquad, quad\n",
    "from IPython.display import display, Math\n",
    "import sympy as smp\n",
    "import scipy as sp\n",
    "from sympy import symbols, integrate, sec\n",
    "\n"
   ]
  },
  {
   "cell_type": "code",
   "execution_count": 52,
   "metadata": {},
   "outputs": [],
   "source": [
    "capacity_link = r\"C B = \\frac{1}{2} \\log \\left(1 + \\frac{PB}{N0}\\right)\"\n",
    "psec = r\"p sec = \\frac{1}{As} \\iint_S C \\sec(x, y) \\, dx \\, dy = \\frac{F \\sec}{As}\""
   ]
  },
  {
   "attachments": {},
   "cell_type": "markdown",
   "metadata": {},
   "source": [
    "CAPACITY LINK EQUATION:"
   ]
  },
  {
   "cell_type": "code",
   "execution_count": 53,
   "metadata": {},
   "outputs": [
    {
     "data": {
      "text/latex": [
       "$\\displaystyle C B = \\frac{1}{2} \\log \\left(1 + \\frac{PB}{N0}\\right)$"
      ],
      "text/plain": [
       "<IPython.core.display.Math object>"
      ]
     },
     "metadata": {},
     "output_type": "display_data"
    }
   ],
   "source": [
    "display(Math(capacity_link))"
   ]
  },
  {
   "cell_type": "code",
   "execution_count": 54,
   "metadata": {},
   "outputs": [],
   "source": [
    "def capacity_link(prx):\n",
    "        cp = 1/2*np.log(1+(prx/(-90+0)))\n",
    "        return cp"
   ]
  },
  {
   "attachments": {},
   "cell_type": "markdown",
   "metadata": {},
   "source": [
    "PRESSURE SECRECY EQUATION:"
   ]
  },
  {
   "cell_type": "code",
   "execution_count": 55,
   "metadata": {},
   "outputs": [
    {
     "data": {
      "text/latex": [
       "$\\displaystyle p sec = \\frac{1}{As} \\iint_S C \\sec(x, y) \\, dx \\, dy = \\frac{F \\sec}{As}$"
      ],
      "text/plain": [
       "<IPython.core.display.Math object>"
      ]
     },
     "metadata": {},
     "output_type": "display_data"
    }
   ],
   "source": [
    "display(Math(psec))"
   ]
  },
  {
   "cell_type": "code",
   "execution_count": 48,
   "metadata": {},
   "outputs": [],
   "source": [
    "def secpres(prx, pe, As):\n",
    "    f = lambda x,y :(1/2)*np.log(1+(prx/(-30)))-(1/2)*np.log(1+(pe/(-30)))\n",
    "    integral, error = dblquad(f,0, 15, lambda x: 0, lambda x: 15)\n",
    "    return integral"
   ]
  },
  {
   "cell_type": "code",
   "execution_count": 164,
   "metadata": {},
   "outputs": [],
   "source": [
    "def eavesdroppergain(x,y):\n",
    "    AgE = 8 - np.min(-np.min([12*((np.arctan(y/x))-90/65)**2,30]))+(-np.min([12*((np.arctan(y/x))/65)**2,30]))\n",
    "    return AgE\n",
    "\n",
    "def transmittergain():\n",
    "    AgT = 8 - np.min(-np.min([12*((np.arctan(0))-90/65)**2,30]))+(-np.min([12*((np.arctan(0))/65)**2,30]))\n",
    "    return AgT"
   ]
  },
  {
   "cell_type": "code",
   "execution_count": 209,
   "metadata": {},
   "outputs": [],
   "source": [
    "prx = 21.43562\n",
    "csec = lambda x,y : 1/2*np.log(1+(prx/(-30))) - 1/2*np.log(1+((eavesdroppergain(x,y))*(transmittergain())/(-30))) \n",
    "\n",
    "def integral(function):\n",
    "    integral, error = dblquad(func = csec,a = 5, b = 10, gfun=5, hfun=10)\n",
    "    return integral, error\n",
    "\n"
   ]
  },
  {
   "cell_type": "code",
   "execution_count": 210,
   "metadata": {},
   "outputs": [
    {
     "data": {
      "text/plain": [
       "-11.71964352847788"
      ]
     },
     "execution_count": 210,
     "metadata": {},
     "output_type": "execute_result"
    }
   ],
   "source": [
    "# 1/2*np.log() \n",
    "1+(((eavesdroppergain(5,5))*(transmittergain()))/(-30))"
   ]
  },
  {
   "cell_type": "code",
   "execution_count": 211,
   "metadata": {},
   "outputs": [
    {
     "name": "stderr",
     "output_type": "stream",
     "text": [
      "/tmp/ipykernel_1341581/3985324383.py:2: RuntimeWarning: invalid value encountered in log\n",
      "  csec = lambda x,y : 1/2*np.log(1+(prx/(-30))) - 1/2*np.log(1+((eavesdroppergain(x,y))*(transmittergain())/(-30)))\n",
      "/home/adrian/.local/lib/python3.8/site-packages/scipy/integrate/quadpack.py:864: IntegrationWarning: The occurrence of roundoff error is detected, which prevents \n",
      "  the requested tolerance from being achieved.  The error may be \n",
      "  underestimated.\n",
      "  quad_r = quad(f, low, high, args=args, full_output=self.full_output,\n"
     ]
    }
   ],
   "source": [
    "answer = integral(csec)"
   ]
  },
  {
   "cell_type": "code",
   "execution_count": 212,
   "metadata": {},
   "outputs": [
    {
     "name": "stdout",
     "output_type": "stream",
     "text": [
      "(nan, 0)\n"
     ]
    }
   ],
   "source": [
    "print(answer)"
   ]
  },
  {
   "cell_type": "code",
   "execution_count": 50,
   "metadata": {},
   "outputs": [
    {
     "name": "stdout",
     "output_type": "stream",
     "text": [
      "pressure if sweep space is 9 beam: -102.64581054402338\n",
      "pressure if sweep space is 25 beam: -102.64581054402338\n",
      "pressure if sweep space is 63 beam: -102.64581054402338\n"
     ]
    }
   ],
   "source": [
    "nine = secpres(25.67853, 19.2382, 9)\n",
    "twentyfive = secpres(25.67853,19.2382, 25)\n",
    "exhaustive = secpres(25.67853,19.2382, 63)\n",
    "print(\"pressure if sweep space is 9 beam:\" ,nine)\n",
    "print(\"pressure if sweep space is 25 beam:\" ,twentyfive)\n",
    "print(\"pressure if sweep space is 63 beam:\" ,exhaustive)"
   ]
  },
  {
   "cell_type": "code",
   "execution_count": null,
   "metadata": {},
   "outputs": [],
   "source": [
    "def sum (x,y): \n",
    "    return x+y \n",
    "\n",
    "lambda x,y: x+y"
   ]
  },
  {
   "cell_type": "code",
   "execution_count": 126,
   "metadata": {},
   "outputs": [],
   "source": [
    "pe = 26.06179973983887\n",
    "prx = 25.69825527778019"
   ]
  },
  {
   "cell_type": "code",
   "execution_count": 147,
   "metadata": {},
   "outputs": [],
   "source": [
    "def arb_calc(x,y):\n",
    "    return prx - (pe*x)+(pe*y)"
   ]
  },
  {
   "cell_type": "code",
   "execution_count": 145,
   "metadata": {},
   "outputs": [
    {
     "data": {
      "text/plain": [
       "0.0441484287845485"
      ]
     },
     "execution_count": 145,
     "metadata": {},
     "output_type": "execute_result"
    }
   ],
   "source": [
    "(1/2)*np.log(1+(prx/(-30)))-(1/2)*np.log(1+(pe/(-30)))\n"
   ]
  },
  {
   "cell_type": "code",
   "execution_count": 149,
   "metadata": {},
   "outputs": [
    {
     "name": "stdout",
     "output_type": "stream",
     "text": [
      "25.69825527778019\n"
     ]
    }
   ],
   "source": [
    "#the following is an integration of x times y\n",
    "# g = lambda x,y: arb_calc(x,y)\n",
    "intergal, error = dblquad(arb_calc, 0, 15, 0, 15)\n",
    "secpres = intergal/225\n",
    "print(secpres)"
   ]
  },
  {
   "attachments": {},
   "cell_type": "markdown",
   "metadata": {},
   "source": [
    "TESTING:"
   ]
  }
 ],
 "metadata": {
  "kernelspec": {
   "display_name": "Python 3",
   "language": "python",
   "name": "python3"
  },
  "language_info": {
   "codemirror_mode": {
    "name": "ipython",
    "version": 3
   },
   "file_extension": ".py",
   "mimetype": "text/x-python",
   "name": "python",
   "nbconvert_exporter": "python",
   "pygments_lexer": "ipython3",
   "version": "3.8.10"
  },
  "orig_nbformat": 4
 },
 "nbformat": 4,
 "nbformat_minor": 2
}
