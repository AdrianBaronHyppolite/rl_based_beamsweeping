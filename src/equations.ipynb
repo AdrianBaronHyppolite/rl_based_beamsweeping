{
 "cells": [
  {
   "cell_type": "code",
   "execution_count": 1,
   "metadata": {},
   "outputs": [],
   "source": [
    "import numpy as np \n",
    "import math\n",
    "from scipy.integrate import dblquad, quad, nquad\n",
    "from IPython.display import display, Math\n",
    "from antennaOG import AntennaModel\n",
    "import sympy as smp\n",
    "import scipy as sp\n",
    "from sympy import symbols, integrate, sec\n",
    "\n"
   ]
  },
  {
   "cell_type": "code",
   "execution_count": 2,
   "metadata": {},
   "outputs": [],
   "source": [
    "capacity_link = r\"C B = \\frac{1}{2} \\log \\left(1 + \\frac{PB}{N0}\\right)\"\n",
    "psec = r\"p sec = \\frac{1}{As} \\iint_S C \\sec(x, y) \\, dx \\, dy = \\frac{F \\sec}{As}\""
   ]
  },
  {
   "attachments": {},
   "cell_type": "markdown",
   "metadata": {},
   "source": [
    "CAPACITY LINK EQUATION:"
   ]
  },
  {
   "cell_type": "code",
   "execution_count": 3,
   "metadata": {},
   "outputs": [
    {
     "data": {
      "text/latex": [
       "$\\displaystyle C B = \\frac{1}{2} \\log \\left(1 + \\frac{PB}{N0}\\right)$"
      ],
      "text/plain": [
       "<IPython.core.display.Math object>"
      ]
     },
     "metadata": {},
     "output_type": "display_data"
    }
   ],
   "source": [
    "display(Math(capacity_link))"
   ]
  },
  {
   "cell_type": "code",
   "execution_count": 4,
   "metadata": {},
   "outputs": [],
   "source": [
    "def capacity_link(prx):\n",
    "        cp = 1/2*np.log(1+(prx/(-90+0)))\n",
    "        return cp"
   ]
  },
  {
   "attachments": {},
   "cell_type": "markdown",
   "metadata": {},
   "source": [
    "PRESSURE SECRECY EQUATION:"
   ]
  },
  {
   "cell_type": "code",
   "execution_count": 5,
   "metadata": {},
   "outputs": [
    {
     "data": {
      "text/latex": [
       "$\\displaystyle p sec = \\frac{1}{As} \\iint_S C \\sec(x, y) \\, dx \\, dy = \\frac{F \\sec}{As}$"
      ],
      "text/plain": [
       "<IPython.core.display.Math object>"
      ]
     },
     "metadata": {},
     "output_type": "display_data"
    }
   ],
   "source": [
    "display(Math(psec))"
   ]
  },
  {
   "cell_type": "code",
   "execution_count": 6,
   "metadata": {},
   "outputs": [],
   "source": [
    "def secpres(prx, pe, As):\n",
    "    f = lambda x,y :(1/2)*np.log(1+(prx/(-30)))-(1/2)*np.log(1+(pe/(-30)))\n",
    "    integral, error = dblquad(f,0, 15, lambda x: 0, lambda x: 15)\n",
    "    return integral"
   ]
  },
  {
   "cell_type": "code",
   "execution_count": 7,
   "metadata": {},
   "outputs": [],
   "source": [
    "def eavesdroppergain(x,y):\n",
    "    AgE = 8 - np.min(-np.min([12*((np.arctan(y/x))-90/65)**2,30]))+(-np.min([12*((np.arctan(y/x))/65)**2,30]))\n",
    "    return AgE\n",
    "\n",
    "def transmittergain():\n",
    "    AgT = 8 - np.min(-np.min([12*((np.arctan(0))-90/65)**2,30]))+(-np.min([12*((np.arctan(0))/65)**2,30]))\n",
    "    return AgT"
   ]
  },
  {
   "cell_type": "code",
   "execution_count": 36,
   "metadata": {},
   "outputs": [
    {
     "name": "stdout",
     "output_type": "stream",
     "text": [
      "(-8.829119474622619, 9.802291727892397e-14)\n"
     ]
    }
   ],
   "source": [
    "prx = 21.43562\n",
    "csec = lambda x,y : 1/2*np.log(1+(prx/(-30))) - 1/2*np.log(1+((eavesdroppergain(x,y))/(-30))) \n",
    "\n",
    "def integral(function):\n",
    "    integral, error = dblquad(func = csec,a = 5, b = 10, gfun=5, hfun=10)\n",
    "    return integral, error\n",
    "\n",
    "print(integral(csec))\n",
    "\n"
   ]
  },
  {
   "cell_type": "code",
   "execution_count": null,
   "metadata": {},
   "outputs": [
    {
     "data": {
      "text/plain": [
       "0.26956677344849395"
      ]
     },
     "execution_count": 48,
     "metadata": {},
     "output_type": "execute_result"
    }
   ],
   "source": [
    "1/2*np.log(1+(prx/(-30)))"
   ]
  },
  {
   "cell_type": "code",
   "execution_count": 10,
   "metadata": {},
   "outputs": [
    {
     "data": {
      "text/plain": [
       "66"
      ]
     },
     "execution_count": 10,
     "metadata": {},
     "output_type": "execute_result"
    }
   ],
   "source": [
    "int(math.degrees(np.arctan(14/6)))"
   ]
  },
  {
   "cell_type": "code",
   "execution_count": 59,
   "metadata": {},
   "outputs": [],
   "source": [
    "def calc_path_loss_los(fc_ghz, d_2d_meter):\n",
    "        H_UT  = 1.5 # Height of UT (m).\n",
    "        H_BS  = 10 # Height of BS (m).\n",
    "        d_bp = 4*H_BS*H_UT*fc_ghz/0.3 # Breaking point distance.\n",
    "        d_3d = np.sqrt(np.power(d_2d_meter, 2) + np.power(H_BS-H_UT, 2))\n",
    "        pl = np.empty_like(d_2d_meter).astype(np.float64)\n",
    "        # PL1: d_2d <= d_bp\n",
    "        cond = d_2d_meter <= d_bp\n",
    "        # pl[cond] = 28 + 22*np.log10(d_3d[cond]) + 20*np.log10(fc_ghz)\n",
    "        pl[cond] = 32.4 + 21*np.log10(d_3d[cond]) + 20*np.log10(fc_ghz)\n",
    "        # PL2: d_2d > d_bp\n",
    "        cond = np.invert(cond)\n",
    "        # pl[cond] = 28 + 40*np.log10(d_3d[cond]) + 20*np.log10(fc_ghz) \\\n",
    "        #     - 9*np.log10(np.power(d_bp, 2)+np.power(H_BS-H_UT, 2))\n",
    "        pl[cond] = 32.4 + 40*np.log10(d_3d[cond]) + 20*np.log10(fc_ghz) \\\n",
    "            - 9.5*np.log10(np.power(d_bp, 2)+np.power(H_BS-H_UT, 2))\n",
    "        return pl\n",
    "\n",
    "\n",
    "def get_dis(loc):\n",
    "        return np.sqrt(loc[0]**2 + loc[1]**2)\n"
   ]
  },
  {
   "cell_type": "code",
   "execution_count": 86,
   "metadata": {},
   "outputs": [
    {
     "name": "stderr",
     "output_type": "stream",
     "text": [
      "/home/adrian/.local/lib/python3.8/site-packages/scipy/integrate/quadpack.py:864: IntegrationWarning: The maximum number of subdivisions (50) has been achieved.\n",
      "  If increasing the limit yields no improvement it is advised to analyze \n",
      "  the integrand in order to determine the difficulties.  If the position of a \n",
      "  local difficulty can be determined (singularity, discontinuity) one will \n",
      "  probably gain from splitting up the interval and calling the integrator \n",
      "  on the subranges.  Perhaps a special-purpose integrator should be used.\n",
      "  quad_r = quad(f, low, high, args=args, full_output=self.full_output,\n"
     ]
    },
    {
     "name": "stdout",
     "output_type": "stream",
     "text": [
      "(-9.78849935726318, 1.052516971355999e-07)\n"
     ]
    }
   ],
   "source": [
    "test = AntennaModel(30)\n",
    "\n",
    "def rseve(x,y):\n",
    "    return 25 + test.calc_ant_gain(90, np.arctan(y/x),31,31) - calc_path_loss_los(25, get_dis([x,y]))\n",
    "\n",
    "prx = -21.43562\n",
    "csec = lambda x,y : 1/2*np.log(1+(prx/(-30))) - 1/2*np.log(1+rseve(x,y)/(-30))\n",
    "\n",
    "def integral(function):\n",
    "    integral, error = dblquad(func = csec,a = 5, b = 10, gfun=0, hfun=5)\n",
    "    return integral, error\n",
    "\n",
    "\n",
    "print(integral(csec))\n"
   ]
  },
  {
   "cell_type": "code",
   "execution_count": 66,
   "metadata": {},
   "outputs": [
    {
     "data": {
      "text/plain": [
       "0.6355738185601486"
      ]
     },
     "execution_count": 66,
     "metadata": {},
     "output_type": "execute_result"
    }
   ],
   "source": [
    "1/2*np.log(1+rseve(1,5)/(-30))"
   ]
  },
  {
   "cell_type": "code",
   "execution_count": 85,
   "metadata": {},
   "outputs": [
    {
     "name": "stdout",
     "output_type": "stream",
     "text": [
      "-0.32437451498948994\n"
     ]
    }
   ],
   "source": [
    "# 1/2*np.log() \n",
    "\n",
    "ue_loc = [5,0]\n",
    "print(1/2*np.log(1+(prx/(-30)))-((1/2*np.log(1+(25+(test.calc_ant_gain(90,25,20,20))-calc_path_loss_los(25,get_dis(ue_loc)))/-30))))"
   ]
  },
  {
   "cell_type": "code",
   "execution_count": 61,
   "metadata": {},
   "outputs": [
    {
     "data": {
      "text/plain": [
       "-55.577980823330066"
      ]
     },
     "execution_count": 61,
     "metadata": {},
     "output_type": "execute_result"
    }
   ],
   "source": [
    "1+(25+(test.calc_ant_gain(90,25,31,31))-calc_path_loss_los(25,get_dis(ue_loc)))"
   ]
  },
  {
   "cell_type": "code",
   "execution_count": 56,
   "metadata": {},
   "outputs": [
    {
     "data": {
      "text/plain": [
       "-15.688524544741611"
      ]
     },
     "execution_count": 56,
     "metadata": {},
     "output_type": "execute_result"
    }
   ],
   "source": [
    "1+(test.calc_ant_gain(90,-12,31,31))"
   ]
  },
  {
   "cell_type": "code",
   "execution_count": 13,
   "metadata": {},
   "outputs": [
    {
     "data": {
      "text/plain": [
       "-115.00591715976331"
      ]
     },
     "execution_count": 13,
     "metadata": {},
     "output_type": "execute_result"
    }
   ],
   "source": [
    "test.calc_ant_gain(0,0,45,45)"
   ]
  },
  {
   "cell_type": "code",
   "execution_count": 14,
   "metadata": {},
   "outputs": [
    {
     "data": {
      "text/plain": [
       "0.8960553845713439"
      ]
     },
     "execution_count": 14,
     "metadata": {},
     "output_type": "execute_result"
    }
   ],
   "source": [
    "np.arctan(10/8)"
   ]
  },
  {
   "cell_type": "code",
   "execution_count": 52,
   "metadata": {},
   "outputs": [
    {
     "name": "stderr",
     "output_type": "stream",
     "text": [
      "/tmp/ipykernel_69592/817448270.py:2: RuntimeWarning: divide by zero encountered in log\n",
      "  return (1/2*np.log(max(0,1+(test.calc_ant_gain(90,np.degrees(np.arctan(y/x)),31,31)))))\n"
     ]
    },
    {
     "data": {
      "text/plain": [
       "(-inf, inf)"
      ]
     },
     "execution_count": 52,
     "metadata": {},
     "output_type": "execute_result"
    }
   ],
   "source": [
    "def f(x,y):\n",
    "    return (1/2*np.log(max(0,1+(test.calc_ant_gain(90,np.degrees(np.arctan(y/x)),31,31)))))\n",
    "\n",
    "dblquad(f, 0, 4, lambda x: 0, lambda x: 4)"
   ]
  },
  {
   "cell_type": "code",
   "execution_count": 27,
   "metadata": {},
   "outputs": [
    {
     "name": "stderr",
     "output_type": "stream",
     "text": [
      "/home/adrian/.local/lib/python3.8/site-packages/scipy/integrate/quadpack.py:864: IntegrationWarning: The maximum number of subdivisions (50) has been achieved.\n",
      "  If increasing the limit yields no improvement it is advised to analyze \n",
      "  the integrand in order to determine the difficulties.  If the position of a \n",
      "  local difficulty can be determined (singularity, discontinuity) one will \n",
      "  probably gain from splitting up the interval and calling the integrator \n",
      "  on the subranges.  Perhaps a special-purpose integrator should be used.\n",
      "  quad_r = quad(f, low, high, args=args, full_output=self.full_output,\n"
     ]
    },
    {
     "ename": "KeyboardInterrupt",
     "evalue": "",
     "output_type": "error",
     "traceback": [
      "\u001b[0;31m---------------------------------------------------------------------------\u001b[0m",
      "\u001b[0;31mKeyboardInterrupt\u001b[0m                         Traceback (most recent call last)",
      "\u001b[1;32m/home/adrian/Documents/rl_based_beamsweeping/src/equations.ipynb Cell 18\u001b[0m in \u001b[0;36m1\n\u001b[0;32m----> <a href='vscode-notebook-cell:/home/adrian/Documents/rl_based_beamsweeping/src/equations.ipynb#X14sZmlsZQ%3D%3D?line=0'>1</a>\u001b[0m answer \u001b[39m=\u001b[39m integral(csec)\n",
      "\u001b[1;32m/home/adrian/Documents/rl_based_beamsweeping/src/equations.ipynb Cell 18\u001b[0m in \u001b[0;36m9\n\u001b[1;32m      <a href='vscode-notebook-cell:/home/adrian/Documents/rl_based_beamsweeping/src/equations.ipynb#X14sZmlsZQ%3D%3D?line=7'>8</a>\u001b[0m \u001b[39mdef\u001b[39;00m \u001b[39mintegral\u001b[39m(function):\n\u001b[0;32m----> <a href='vscode-notebook-cell:/home/adrian/Documents/rl_based_beamsweeping/src/equations.ipynb#X14sZmlsZQ%3D%3D?line=8'>9</a>\u001b[0m     integral, error \u001b[39m=\u001b[39m dblquad(func \u001b[39m=\u001b[39;49m csec,a \u001b[39m=\u001b[39;49m \u001b[39m5\u001b[39;49m, b \u001b[39m=\u001b[39;49m \u001b[39m10\u001b[39;49m, gfun\u001b[39m=\u001b[39;49m\u001b[39m0\u001b[39;49m, hfun\u001b[39m=\u001b[39;49m\u001b[39m5\u001b[39;49m)\n\u001b[1;32m     <a href='vscode-notebook-cell:/home/adrian/Documents/rl_based_beamsweeping/src/equations.ipynb#X14sZmlsZQ%3D%3D?line=9'>10</a>\u001b[0m     \u001b[39mreturn\u001b[39;00m integral, error\n",
      "File \u001b[0;32m~/.local/lib/python3.8/site-packages/scipy/integrate/quadpack.py:585\u001b[0m, in \u001b[0;36mdblquad\u001b[0;34m(func, a, b, gfun, hfun, args, epsabs, epsrel)\u001b[0m\n\u001b[1;32m    581\u001b[0m \u001b[39mdef\u001b[39;00m \u001b[39mtemp_ranges\u001b[39m(\u001b[39m*\u001b[39margs):\n\u001b[1;32m    582\u001b[0m     \u001b[39mreturn\u001b[39;00m [gfun(args[\u001b[39m0\u001b[39m]) \u001b[39mif\u001b[39;00m callable(gfun) \u001b[39melse\u001b[39;00m gfun,\n\u001b[1;32m    583\u001b[0m             hfun(args[\u001b[39m0\u001b[39m]) \u001b[39mif\u001b[39;00m callable(hfun) \u001b[39melse\u001b[39;00m hfun]\n\u001b[0;32m--> 585\u001b[0m \u001b[39mreturn\u001b[39;00m nquad(func, [temp_ranges, [a, b]], args\u001b[39m=\u001b[39;49margs,\n\u001b[1;32m    586\u001b[0m         opts\u001b[39m=\u001b[39;49m{\u001b[39m\"\u001b[39;49m\u001b[39mepsabs\u001b[39;49m\u001b[39m\"\u001b[39;49m: epsabs, \u001b[39m\"\u001b[39;49m\u001b[39mepsrel\u001b[39;49m\u001b[39m\"\u001b[39;49m: epsrel})\n",
      "File \u001b[0;32m~/.local/lib/python3.8/site-packages/scipy/integrate/quadpack.py:810\u001b[0m, in \u001b[0;36mnquad\u001b[0;34m(func, ranges, args, opts, full_output)\u001b[0m\n\u001b[1;32m    808\u001b[0m \u001b[39melse\u001b[39;00m:\n\u001b[1;32m    809\u001b[0m     opts \u001b[39m=\u001b[39m [opt \u001b[39mif\u001b[39;00m callable(opt) \u001b[39melse\u001b[39;00m _OptFunc(opt) \u001b[39mfor\u001b[39;00m opt \u001b[39min\u001b[39;00m opts]\n\u001b[0;32m--> 810\u001b[0m \u001b[39mreturn\u001b[39;00m _NQuad(func, ranges, opts, full_output)\u001b[39m.\u001b[39;49mintegrate(\u001b[39m*\u001b[39;49margs)\n",
      "File \u001b[0;32m~/.local/lib/python3.8/site-packages/scipy/integrate/quadpack.py:864\u001b[0m, in \u001b[0;36m_NQuad.integrate\u001b[0;34m(self, *args, **kwargs)\u001b[0m\n\u001b[1;32m    862\u001b[0m \u001b[39melse\u001b[39;00m:\n\u001b[1;32m    863\u001b[0m     f \u001b[39m=\u001b[39m partial(\u001b[39mself\u001b[39m\u001b[39m.\u001b[39mintegrate, depth\u001b[39m=\u001b[39mdepth\u001b[39m+\u001b[39m\u001b[39m1\u001b[39m)\n\u001b[0;32m--> 864\u001b[0m quad_r \u001b[39m=\u001b[39m quad(f, low, high, args\u001b[39m=\u001b[39;49margs, full_output\u001b[39m=\u001b[39;49m\u001b[39mself\u001b[39;49m\u001b[39m.\u001b[39;49mfull_output,\n\u001b[1;32m    865\u001b[0m               \u001b[39m*\u001b[39;49m\u001b[39m*\u001b[39;49mopt)\n\u001b[1;32m    866\u001b[0m value \u001b[39m=\u001b[39m quad_r[\u001b[39m0\u001b[39m]\n\u001b[1;32m    867\u001b[0m abserr \u001b[39m=\u001b[39m quad_r[\u001b[39m1\u001b[39m]\n",
      "File \u001b[0;32m~/.local/lib/python3.8/site-packages/scipy/integrate/quadpack.py:341\u001b[0m, in \u001b[0;36mquad\u001b[0;34m(func, a, b, args, full_output, epsabs, epsrel, limit, points, weight, wvar, wopts, maxp1, limlst)\u001b[0m\n\u001b[1;32m    338\u001b[0m flip, a, b \u001b[39m=\u001b[39m b \u001b[39m<\u001b[39m a, \u001b[39mmin\u001b[39m(a, b), \u001b[39mmax\u001b[39m(a, b)\n\u001b[1;32m    340\u001b[0m \u001b[39mif\u001b[39;00m weight \u001b[39mis\u001b[39;00m \u001b[39mNone\u001b[39;00m:\n\u001b[0;32m--> 341\u001b[0m     retval \u001b[39m=\u001b[39m _quad(func, a, b, args, full_output, epsabs, epsrel, limit,\n\u001b[1;32m    342\u001b[0m                    points)\n\u001b[1;32m    343\u001b[0m \u001b[39melse\u001b[39;00m:\n\u001b[1;32m    344\u001b[0m     \u001b[39mif\u001b[39;00m points \u001b[39mis\u001b[39;00m \u001b[39mnot\u001b[39;00m \u001b[39mNone\u001b[39;00m:\n",
      "File \u001b[0;32m~/.local/lib/python3.8/site-packages/scipy/integrate/quadpack.py:453\u001b[0m, in \u001b[0;36m_quad\u001b[0;34m(func, a, b, args, full_output, epsabs, epsrel, limit, points)\u001b[0m\n\u001b[1;32m    451\u001b[0m \u001b[39mif\u001b[39;00m points \u001b[39mis\u001b[39;00m \u001b[39mNone\u001b[39;00m:\n\u001b[1;32m    452\u001b[0m     \u001b[39mif\u001b[39;00m infbounds \u001b[39m==\u001b[39m \u001b[39m0\u001b[39m:\n\u001b[0;32m--> 453\u001b[0m         \u001b[39mreturn\u001b[39;00m _quadpack\u001b[39m.\u001b[39;49m_qagse(func,a,b,args,full_output,epsabs,epsrel,limit)\n\u001b[1;32m    454\u001b[0m     \u001b[39melse\u001b[39;00m:\n\u001b[1;32m    455\u001b[0m         \u001b[39mreturn\u001b[39;00m _quadpack\u001b[39m.\u001b[39m_qagie(func,bound,infbounds,args,full_output,epsabs,epsrel,limit)\n",
      "File \u001b[0;32m~/.local/lib/python3.8/site-packages/scipy/integrate/quadpack.py:864\u001b[0m, in \u001b[0;36m_NQuad.integrate\u001b[0;34m(self, *args, **kwargs)\u001b[0m\n\u001b[1;32m    862\u001b[0m \u001b[39melse\u001b[39;00m:\n\u001b[1;32m    863\u001b[0m     f \u001b[39m=\u001b[39m partial(\u001b[39mself\u001b[39m\u001b[39m.\u001b[39mintegrate, depth\u001b[39m=\u001b[39mdepth\u001b[39m+\u001b[39m\u001b[39m1\u001b[39m)\n\u001b[0;32m--> 864\u001b[0m quad_r \u001b[39m=\u001b[39m quad(f, low, high, args\u001b[39m=\u001b[39;49margs, full_output\u001b[39m=\u001b[39;49m\u001b[39mself\u001b[39;49m\u001b[39m.\u001b[39;49mfull_output,\n\u001b[1;32m    865\u001b[0m               \u001b[39m*\u001b[39;49m\u001b[39m*\u001b[39;49mopt)\n\u001b[1;32m    866\u001b[0m value \u001b[39m=\u001b[39m quad_r[\u001b[39m0\u001b[39m]\n\u001b[1;32m    867\u001b[0m abserr \u001b[39m=\u001b[39m quad_r[\u001b[39m1\u001b[39m]\n",
      "File \u001b[0;32m~/.local/lib/python3.8/site-packages/scipy/integrate/quadpack.py:341\u001b[0m, in \u001b[0;36mquad\u001b[0;34m(func, a, b, args, full_output, epsabs, epsrel, limit, points, weight, wvar, wopts, maxp1, limlst)\u001b[0m\n\u001b[1;32m    338\u001b[0m flip, a, b \u001b[39m=\u001b[39m b \u001b[39m<\u001b[39m a, \u001b[39mmin\u001b[39m(a, b), \u001b[39mmax\u001b[39m(a, b)\n\u001b[1;32m    340\u001b[0m \u001b[39mif\u001b[39;00m weight \u001b[39mis\u001b[39;00m \u001b[39mNone\u001b[39;00m:\n\u001b[0;32m--> 341\u001b[0m     retval \u001b[39m=\u001b[39m _quad(func, a, b, args, full_output, epsabs, epsrel, limit,\n\u001b[1;32m    342\u001b[0m                    points)\n\u001b[1;32m    343\u001b[0m \u001b[39melse\u001b[39;00m:\n\u001b[1;32m    344\u001b[0m     \u001b[39mif\u001b[39;00m points \u001b[39mis\u001b[39;00m \u001b[39mnot\u001b[39;00m \u001b[39mNone\u001b[39;00m:\n",
      "File \u001b[0;32m~/.local/lib/python3.8/site-packages/scipy/integrate/quadpack.py:453\u001b[0m, in \u001b[0;36m_quad\u001b[0;34m(func, a, b, args, full_output, epsabs, epsrel, limit, points)\u001b[0m\n\u001b[1;32m    451\u001b[0m \u001b[39mif\u001b[39;00m points \u001b[39mis\u001b[39;00m \u001b[39mNone\u001b[39;00m:\n\u001b[1;32m    452\u001b[0m     \u001b[39mif\u001b[39;00m infbounds \u001b[39m==\u001b[39m \u001b[39m0\u001b[39m:\n\u001b[0;32m--> 453\u001b[0m         \u001b[39mreturn\u001b[39;00m _quadpack\u001b[39m.\u001b[39;49m_qagse(func,a,b,args,full_output,epsabs,epsrel,limit)\n\u001b[1;32m    454\u001b[0m     \u001b[39melse\u001b[39;00m:\n\u001b[1;32m    455\u001b[0m         \u001b[39mreturn\u001b[39;00m _quadpack\u001b[39m.\u001b[39m_qagie(func,bound,infbounds,args,full_output,epsabs,epsrel,limit)\n",
      "\u001b[1;32m/home/adrian/Documents/rl_based_beamsweeping/src/equations.ipynb Cell 18\u001b[0m in \u001b[0;36m6\n\u001b[1;32m      <a href='vscode-notebook-cell:/home/adrian/Documents/rl_based_beamsweeping/src/equations.ipynb#X14sZmlsZQ%3D%3D?line=2'>3</a>\u001b[0m test\u001b[39m.\u001b[39mcalc_ant_gain(np\u001b[39m.\u001b[39marctan(\u001b[39m1\u001b[39m\u001b[39m/\u001b[39m\u001b[39m1\u001b[39m),\u001b[39m0\u001b[39m,\u001b[39m90\u001b[39m,\u001b[39m0\u001b[39m)\n\u001b[1;32m      <a href='vscode-notebook-cell:/home/adrian/Documents/rl_based_beamsweeping/src/equations.ipynb#X14sZmlsZQ%3D%3D?line=4'>5</a>\u001b[0m prx \u001b[39m=\u001b[39m \u001b[39m-\u001b[39m\u001b[39m21.43562\u001b[39m\n\u001b[0;32m----> <a href='vscode-notebook-cell:/home/adrian/Documents/rl_based_beamsweeping/src/equations.ipynb#X14sZmlsZQ%3D%3D?line=5'>6</a>\u001b[0m csec \u001b[39m=\u001b[39m \u001b[39mlambda\u001b[39;00m x,y : \u001b[39m1\u001b[39m\u001b[39m/\u001b[39m\u001b[39m2\u001b[39m\u001b[39m*\u001b[39mnp\u001b[39m.\u001b[39mlog(\u001b[39m1\u001b[39m\u001b[39m+\u001b[39m(prx\u001b[39m/\u001b[39m(\u001b[39m-\u001b[39m\u001b[39m30\u001b[39m))) \u001b[39m-\u001b[39m \u001b[39m1\u001b[39m\u001b[39m/\u001b[39m\u001b[39m2\u001b[39m\u001b[39m*\u001b[39mnp\u001b[39m.\u001b[39mlog(\u001b[39m1\u001b[39m\u001b[39m+\u001b[39m(test\u001b[39m.\u001b[39;49mcalc_ant_gain(\u001b[39m90\u001b[39;49m,\u001b[39mint\u001b[39;49m(math\u001b[39m.\u001b[39;49mdegrees(np\u001b[39m.\u001b[39;49marctan(y\u001b[39m/\u001b[39;49mx))),\u001b[39m31\u001b[39;49m,\u001b[39m31\u001b[39;49m))\u001b[39m/\u001b[39m(\u001b[39m-\u001b[39m\u001b[39m30\u001b[39m))\n\u001b[1;32m      <a href='vscode-notebook-cell:/home/adrian/Documents/rl_based_beamsweeping/src/equations.ipynb#X14sZmlsZQ%3D%3D?line=7'>8</a>\u001b[0m \u001b[39mdef\u001b[39;00m \u001b[39mintegral\u001b[39m(function):\n\u001b[1;32m      <a href='vscode-notebook-cell:/home/adrian/Documents/rl_based_beamsweeping/src/equations.ipynb#X14sZmlsZQ%3D%3D?line=8'>9</a>\u001b[0m     integral, error \u001b[39m=\u001b[39m dblquad(func \u001b[39m=\u001b[39m csec,a \u001b[39m=\u001b[39m \u001b[39m5\u001b[39m, b \u001b[39m=\u001b[39m \u001b[39m10\u001b[39m, gfun\u001b[39m=\u001b[39m\u001b[39m0\u001b[39m, hfun\u001b[39m=\u001b[39m\u001b[39m5\u001b[39m)\n",
      "File \u001b[0;32m~/Documents/rl_based_beamsweeping/src/antennaOG.py:23\u001b[0m, in \u001b[0;36mAntennaModel.calc_ant_gain\u001b[0;34m(self, theta, phi, theta_s, phi_s)\u001b[0m\n\u001b[1;32m     15\u001b[0m \u001b[39mdef\u001b[39;00m \u001b[39mcalc_ant_gain\u001b[39m(\u001b[39mself\u001b[39m, theta, phi, theta_s, phi_s):\n\u001b[1;32m     16\u001b[0m     \u001b[39m\"\"\"This function calculates the antenna gain in dBi of a directional\u001b[39;00m\n\u001b[1;32m     17\u001b[0m \u001b[39m    antenna given the reference angles:\u001b[39;00m\n\u001b[1;32m     18\u001b[0m \u001b[39m        - theta_s: The vertical steering angle;\u001b[39;00m\n\u001b[0;32m   (...)\u001b[0m\n\u001b[1;32m     21\u001b[0m \u001b[39m        - phi: The horizontal reference angle;\u001b[39;00m\n\u001b[1;32m     22\u001b[0m \u001b[39m    \"\"\"\u001b[39;00m\n\u001b[0;32m---> 23\u001b[0m     A \u001b[39m=\u001b[39m \u001b[39mself\u001b[39;49m\u001b[39m.\u001b[39;49m_calc_ant_pattern(theta, phi, theta_s, phi_s)\n\u001b[1;32m     24\u001b[0m     F \u001b[39m=\u001b[39m \u001b[39mself\u001b[39m\u001b[39m.\u001b[39m_calc_field_gain(A)\n\u001b[1;32m     25\u001b[0m     \u001b[39mreturn\u001b[39;00m F\n",
      "File \u001b[0;32m~/Documents/rl_based_beamsweeping/src/antennaOG.py:41\u001b[0m, in \u001b[0;36mAntennaModel._calc_ant_pattern\u001b[0;34m(self, theta, phi, theta_s, phi_s)\u001b[0m\n\u001b[1;32m     39\u001b[0m \u001b[39mdef\u001b[39;00m \u001b[39m_calc_ant_pattern\u001b[39m(\u001b[39mself\u001b[39m, theta, phi, theta_s, phi_s):\n\u001b[1;32m     40\u001b[0m     AE \u001b[39m=\u001b[39m \u001b[39mself\u001b[39m\u001b[39m.\u001b[39m_calc_element_pattern(theta, phi)\n\u001b[0;32m---> 41\u001b[0m     AF \u001b[39m=\u001b[39m \u001b[39mself\u001b[39;49m\u001b[39m.\u001b[39;49m_calc_array_factor(theta, phi, theta_s, phi_s)\n\u001b[1;32m     42\u001b[0m     A \u001b[39m=\u001b[39m AE \u001b[39m+\u001b[39m AF\n\u001b[1;32m     43\u001b[0m     \u001b[39mreturn\u001b[39;00m A\n",
      "File \u001b[0;32m~/Documents/rl_based_beamsweeping/src/antennaOG.py:83\u001b[0m, in \u001b[0;36mAntennaModel._calc_array_factor\u001b[0;34m(self, theta, phi, theta_s, phi_s, rho)\u001b[0m\n\u001b[1;32m     81\u001b[0m \u001b[39mfor\u001b[39;00m r \u001b[39min\u001b[39;00m \u001b[39mrange\u001b[39m(m):\n\u001b[1;32m     82\u001b[0m     psi_p \u001b[39m=\u001b[39m np\u001b[39m.\u001b[39mcos(theta) \u001b[39m-\u001b[39m np\u001b[39m.\u001b[39mcos(theta_s)\n\u001b[0;32m---> 83\u001b[0m     psi_r \u001b[39m=\u001b[39m np\u001b[39m.\u001b[39msin(theta)\u001b[39m*\u001b[39mnp\u001b[39m.\u001b[39msin(phi)\u001b[39m-\u001b[39mnp\u001b[39m.\u001b[39msin(theta_s)\u001b[39m*\u001b[39mnp\u001b[39m.\u001b[39;49msin(phi_s)\n\u001b[1;32m     84\u001b[0m     term_p \u001b[39m=\u001b[39m p\u001b[39m*\u001b[39mdv(\u001b[39mself\u001b[39m\u001b[39m.\u001b[39mfc_hz)\u001b[39m*\u001b[39mpsi_p\u001b[39m/\u001b[39mwl(\u001b[39mself\u001b[39m\u001b[39m.\u001b[39mfc_hz)\n\u001b[1;32m     85\u001b[0m     term_r \u001b[39m=\u001b[39m r\u001b[39m*\u001b[39mdh(\u001b[39mself\u001b[39m\u001b[39m.\u001b[39mfc_hz)\u001b[39m*\u001b[39mpsi_r\u001b[39m/\u001b[39mwl(\u001b[39mself\u001b[39m\u001b[39m.\u001b[39mfc_hz)\n",
      "\u001b[0;31mKeyboardInterrupt\u001b[0m: "
     ]
    }
   ],
   "source": [
    "answer = integral(csec)"
   ]
  },
  {
   "cell_type": "code",
   "execution_count": null,
   "metadata": {},
   "outputs": [
    {
     "name": "stdout",
     "output_type": "stream",
     "text": [
      "(-8.72659510344771, 9.688466810428798e-14)\n"
     ]
    }
   ],
   "source": [
    "print(answer)"
   ]
  },
  {
   "cell_type": "code",
   "execution_count": null,
   "metadata": {},
   "outputs": [
    {
     "name": "stdout",
     "output_type": "stream",
     "text": [
      "pressure if sweep space is 9 beam: -102.64581054402338\n",
      "pressure if sweep space is 25 beam: -102.64581054402338\n",
      "pressure if sweep space is 63 beam: -102.64581054402338\n"
     ]
    }
   ],
   "source": [
    "nine = secpres(25.67853, 19.2382, 9)\n",
    "twentyfive = secpres(25.67853,19.2382, 25)\n",
    "exhaustive = secpres(25.67853,19.2382, 63)\n",
    "print(\"pressure if sweep space is 9 beam:\" ,nine)\n",
    "print(\"pressure if sweep space is 25 beam:\" ,twentyfive)\n",
    "print(\"pressure if sweep space is 63 beam:\" ,exhaustive)"
   ]
  },
  {
   "cell_type": "code",
   "execution_count": null,
   "metadata": {},
   "outputs": [
    {
     "data": {
      "text/plain": [
       "<function __main__.<lambda>(x, y)>"
      ]
     },
     "execution_count": 14,
     "metadata": {},
     "output_type": "execute_result"
    }
   ],
   "source": [
    "def sum (x,y): \n",
    "    return x+y \n",
    "\n",
    "lambda x,y: x+y"
   ]
  },
  {
   "cell_type": "code",
   "execution_count": null,
   "metadata": {},
   "outputs": [],
   "source": [
    "pe = 26.06179973983887\n",
    "prx = 25.69825527778019"
   ]
  },
  {
   "cell_type": "code",
   "execution_count": null,
   "metadata": {},
   "outputs": [],
   "source": [
    "def arb_calc(x,y):\n",
    "    return prx - (pe*x)+(pe*y)"
   ]
  },
  {
   "cell_type": "code",
   "execution_count": null,
   "metadata": {},
   "outputs": [
    {
     "data": {
      "text/plain": [
       "0.0441484287845485"
      ]
     },
     "execution_count": 17,
     "metadata": {},
     "output_type": "execute_result"
    }
   ],
   "source": [
    "(1/2)*np.log(1+(prx/(-30)))-(1/2)*np.log(1+(pe/(-30)))\n"
   ]
  },
  {
   "cell_type": "code",
   "execution_count": null,
   "metadata": {},
   "outputs": [
    {
     "name": "stdout",
     "output_type": "stream",
     "text": [
      "25.69825527778019\n"
     ]
    }
   ],
   "source": [
    "#the following is an integration of x times y\n",
    "# g = lambda x,y: arb_calc(x,y)\n",
    "intergal, error = dblquad(arb_calc, 0, 15, 0, 15)\n",
    "secpres = intergal/225\n",
    "print(secpres)"
   ]
  },
  {
   "attachments": {},
   "cell_type": "markdown",
   "metadata": {},
   "source": [
    "TESTING:"
   ]
  }
 ],
 "metadata": {
  "kernelspec": {
   "display_name": "Python 3",
   "language": "python",
   "name": "python3"
  },
  "language_info": {
   "codemirror_mode": {
    "name": "ipython",
    "version": 3
   },
   "file_extension": ".py",
   "mimetype": "text/x-python",
   "name": "python",
   "nbconvert_exporter": "python",
   "pygments_lexer": "ipython3",
   "version": "3.8.10"
  },
  "orig_nbformat": 4
 },
 "nbformat": 4,
 "nbformat_minor": 2
}
